{
 "cells": [
  {
   "cell_type": "code",
   "execution_count": 2,
   "metadata": {
    "collapsed": true
   },
   "outputs": [],
   "source": [
    "import pickle\n",
    "import random\n",
    "from PIL import Image, ImageStat\n",
    "from torchvision.transforms import transforms\n",
    "import os\n",
    "import numpy as np\n",
    "import cv2\n",
    "from tqdm.notebook import tqdm\n",
    "\n",
    "h,w = 134,100\n",
    "# h,w = 1333, 1000\n",
    "transform = transforms.Resize((h,w))\n",
    "images_path = 'D:\\My Docs/University\\Applied Data Science\\Project/uob_image_set'"
   ]
  },
  {
   "cell_type": "code",
   "execution_count": 5,
   "outputs": [],
   "source": [
    "def full_path(dir_name):\n",
    "    image_folder = os.path.join(images_path, dir_name)\n",
    "\n",
    "    img_name = os.listdir(image_folder)[0]\n",
    "    return os.path.join(image_folder, img_name)\n",
    "\n",
    "\n",
    "def get_images():\n",
    "    chosen = os.listdir(images_path)\n",
    "\n",
    "    imgs = [Image.open(full_path(k)) for k in tqdm(chosen)]\n",
    "    imgs = [transform(i) for i in tqdm(imgs)]\n",
    "    print(\"LOADED\")\n",
    "    return np.array(imgs)\n",
    "\n",
    "def get_fft(img):\n",
    "\n",
    "    gray = np.array(img.convert(\"LA\"))\n",
    "    dft = cv2.dft(np.float32(gray), flags=cv2.DFT_COMPLEX_OUTPUT)\n",
    "    dft_shift = np.fft.fftshift(dft)\n",
    "\n",
    "    magnitude_spectrum = 20 * np.log(cv2.magnitude(dft_shift[:, :, 0], dft_shift[:, :, 1]))\n",
    "    return magnitude_spectrum\n",
    "\n",
    "def get_closest(images, fft_diff, idx, k):\n",
    "    images = np.array(images)\n",
    "    row = fft_diff[idx]\n",
    "    k_smallest_idx = np.argsort(row)[1:k+1]\n",
    "\n",
    "    return images[k_smallest_idx]\n",
    "\n",
    "def showImages(images):\n",
    "\n",
    "    dst = Image.new('RGB', (len(images) * w, h))\n",
    "    x = 0\n",
    "    y = 0\n",
    "    for i in images:\n",
    "        dst.paste(i, (x,y))\n",
    "        x+= w\n",
    "\n",
    "    dst.show()\n"
   ],
   "metadata": {
    "collapsed": false,
    "pycharm": {
     "name": "#%%\n"
    }
   }
  },
  {
   "cell_type": "code",
   "execution_count": 6,
   "outputs": [],
   "source": [
    "def get_fourier_matrix(images):\n",
    "    fft_images = [get_fft(i) for i in tqdm(images)]\n",
    "    n = len(images)\n",
    "    fft_diff = np.zeros((n,n))\n",
    "\n",
    "    for i in tqdm(range(0, n)):\n",
    "        for j in range(0, i):\n",
    "\n",
    "            if i != j:\n",
    "                fft_1 = fft_images[i]\n",
    "                fft_2 = fft_images[j]\n",
    "\n",
    "                diff = np.sum(abs(fft_1 - fft_2))\n",
    "                fft_diff[i][j] = diff\n",
    "                fft_diff[j][i] = diff\n",
    "\n",
    "    return fft_diff"
   ],
   "metadata": {
    "collapsed": false,
    "pycharm": {
     "name": "#%%\n"
    }
   }
  },
  {
   "cell_type": "code",
   "execution_count": 7,
   "outputs": [],
   "source": [
    "def get_col(image):\n",
    "    return ImageStat.Stat(image).median\n",
    "\n",
    "def get_colour_matrix(images):\n",
    "    col_images = [get_col(i) for i in tqdm(images)]\n",
    "    n = len(images)\n",
    "    col_diff = np.zeros((n,n))\n",
    "\n",
    "    for i in tqdm(range(0, n)):\n",
    "        for j in range(0, i):\n",
    "\n",
    "            if i != j:\n",
    "                col_1 = np.array(col_images[i])\n",
    "                col_2 = np.array(col_images[j])\n",
    "\n",
    "                diff = np.sum(abs(col_1 - col_2))\n",
    "                col_diff[i][j] = diff\n",
    "                col_diff[j][i] = diff\n",
    "\n",
    "    return col_diff\n"
   ],
   "metadata": {
    "collapsed": false,
    "pycharm": {
     "name": "#%%\n"
    }
   }
  },
  {
   "cell_type": "code",
   "execution_count": 8,
   "outputs": [
    {
     "name": "stderr",
     "output_type": "stream",
     "text": [
      "<ipython-input-5-d918cd8c2313>:11: TqdmDeprecationWarning: This function will be removed in tqdm==5.0.0\n",
      "Please use `tqdm.notebook.tqdm` instead of `tqdm.tqdm_notebook`\n",
      "  imgs = [Image.open(full_path(k)) for k in tqdm(chosen)]\n",
      "<ipython-input-5-d918cd8c2313>:12: TqdmDeprecationWarning: This function will be removed in tqdm==5.0.0\n",
      "Please use `tqdm.notebook.tqdm` instead of `tqdm.tqdm_notebook`\n",
      "  imgs = [transform(i) for i in tqdm(imgs)]\n",
      "<ipython-input-5-d918cd8c2313>:14: FutureWarning: The input object of type 'Image' is an array-like implementing one of the corresponding protocols (`__array__`, `__array_interface__` or `__array_struct__`); but not a sequence (or 0-D). In the future, this object will be coerced as if it was first converted using `np.array(obj)`. To retain the old behaviour, you have to either modify the type 'Image', or assign to an empty array created with `np.empty(correct_shape, dtype=object)`.\n",
      "  return np.array(imgs)\n",
      "<ipython-input-5-d918cd8c2313>:14: VisibleDeprecationWarning: Creating an ndarray from ragged nested sequences (which is a list-or-tuple of lists-or-tuples-or ndarrays with different lengths or shapes) is deprecated. If you meant to do this, you must specify 'dtype=object' when creating the ndarray.\n",
      "  return np.array(imgs)\n"
     ]
    },
    {
     "data": {
      "text/plain": "  0%|          | 0/1500 [00:00<?, ?it/s]",
      "application/vnd.jupyter.widget-view+json": {
       "version_major": 2,
       "version_minor": 0,
       "model_id": "1b01b77e896b480ab2c15f178eb89828"
      }
     },
     "metadata": {},
     "output_type": "display_data"
    },
    {
     "data": {
      "text/plain": "  0%|          | 0/1500 [00:00<?, ?it/s]",
      "application/vnd.jupyter.widget-view+json": {
       "version_major": 2,
       "version_minor": 0,
       "model_id": "67d7cbe71a8941f49c0d65527b4083eb"
      }
     },
     "metadata": {},
     "output_type": "display_data"
    },
    {
     "name": "stdout",
     "output_type": "stream",
     "text": [
      "LOADED\n"
     ]
    }
   ],
   "source": [
    "images = get_images()"
   ],
   "metadata": {
    "collapsed": false,
    "pycharm": {
     "name": "#%%\n"
    }
   }
  },
  {
   "cell_type": "code",
   "execution_count": 9,
   "outputs": [
    {
     "name": "stderr",
     "output_type": "stream",
     "text": [
      "<ipython-input-6-716b71b2fe88>:2: TqdmDeprecationWarning: This function will be removed in tqdm==5.0.0\n",
      "Please use `tqdm.notebook.tqdm` instead of `tqdm.tqdm_notebook`\n",
      "  fft_images = [get_fft(i) for i in tqdm(images)]\n",
      "<ipython-input-6-716b71b2fe88>:6: TqdmDeprecationWarning: This function will be removed in tqdm==5.0.0\n",
      "Please use `tqdm.notebook.tqdm` instead of `tqdm.tqdm_notebook`\n",
      "  for i in tqdm(range(0, n)):\n",
      "<ipython-input-7-ca9b23189517>:5: TqdmDeprecationWarning: This function will be removed in tqdm==5.0.0\n",
      "Please use `tqdm.notebook.tqdm` instead of `tqdm.tqdm_notebook`\n",
      "  col_images = [get_col(i) for i in tqdm(images)]\n",
      "<ipython-input-7-ca9b23189517>:9: TqdmDeprecationWarning: This function will be removed in tqdm==5.0.0\n",
      "Please use `tqdm.notebook.tqdm` instead of `tqdm.tqdm_notebook`\n",
      "  for i in tqdm(range(0, n)):\n"
     ]
    },
    {
     "data": {
      "text/plain": "  0%|          | 0/1500 [00:00<?, ?it/s]",
      "application/vnd.jupyter.widget-view+json": {
       "version_major": 2,
       "version_minor": 0,
       "model_id": "106d7e7727ac4bca810e5c3c4690d567"
      }
     },
     "metadata": {},
     "output_type": "display_data"
    },
    {
     "data": {
      "text/plain": "  0%|          | 0/1500 [00:00<?, ?it/s]",
      "application/vnd.jupyter.widget-view+json": {
       "version_major": 2,
       "version_minor": 0,
       "model_id": "31f12680c747445cb1ea0c15b1dd470d"
      }
     },
     "metadata": {},
     "output_type": "display_data"
    },
    {
     "data": {
      "text/plain": "  0%|          | 0/1500 [00:00<?, ?it/s]",
      "application/vnd.jupyter.widget-view+json": {
       "version_major": 2,
       "version_minor": 0,
       "model_id": "152929717e954e4a96aac1aa3c41d23e"
      }
     },
     "metadata": {},
     "output_type": "display_data"
    },
    {
     "data": {
      "text/plain": "  0%|          | 0/1500 [00:00<?, ?it/s]",
      "application/vnd.jupyter.widget-view+json": {
       "version_major": 2,
       "version_minor": 0,
       "model_id": "163c63580da94bbf9e2e3be625282827"
      }
     },
     "metadata": {},
     "output_type": "display_data"
    }
   ],
   "source": [
    "fft_diff_matrix = get_fourier_matrix(images)\n",
    "col_diff_matrix = get_colour_matrix(images)"
   ],
   "metadata": {
    "collapsed": false,
    "pycharm": {
     "name": "#%%\n"
    }
   }
  },
  {
   "cell_type": "code",
   "execution_count": 10,
   "outputs": [
    {
     "name": "stdout",
     "output_type": "stream",
     "text": [
      "159024.09375 996289.625 280059.3180783161\n",
      "1.0 745.0 305.6397282233402\n",
      "[0.0013440860215053765, 1.0, 0.4103231648787418]\n",
      "[0.0019714661160548045, 1.0, 0.1445602708693262]\n"
     ]
    }
   ],
   "source": [
    "def get_measures(w_matrix):\n",
    "    w_matrix = w_matrix.flatten()\n",
    "    above_zero_idxs = np.where(w_matrix > 0)\n",
    "    above_zero = w_matrix[above_zero_idxs]\n",
    "    min_w = np.amin(above_zero)\n",
    "    max_w = np.amax(above_zero)\n",
    "    average = np.mean(above_zero)\n",
    "    # variance = np.var(above_zero)\n",
    "    measures = [min_w, max_w, average]\n",
    "    return measures\n",
    "\n",
    "fft_min, fft_max, fft_mean = get_measures(fft_diff_matrix)\n",
    "col_min, col_max, col_mean = get_measures(col_diff_matrix)\n",
    "transformed_fft = (fft_diff_matrix - fft_min) / (fft_max - fft_min)\n",
    "transformed_col = (col_diff_matrix - col_min) / (col_max - col_min)\n",
    "print(fft_min,fft_max, fft_mean)\n",
    "print(col_min,col_max, col_mean)\n",
    "print(get_measures(transformed_col))\n",
    "print(get_measures(transformed_fft))"
   ],
   "metadata": {
    "collapsed": false,
    "pycharm": {
     "name": "#%%\n"
    }
   }
  },
  {
   "cell_type": "code",
   "execution_count": 19,
   "outputs": [],
   "source": [
    "error_matrix = 3 * transformed_fft + transformed_col\n",
    "idx = random.randint(0, 1500)\n",
    "chosen_img = images[idx]\n",
    "closest = get_closest(images, error_matrix, idx, 10)\n",
    "showImages([chosen_img] + list(closest))\n",
    "\n"
   ],
   "metadata": {
    "collapsed": false,
    "pycharm": {
     "name": "#%%\n"
    }
   }
  }
 ],
 "metadata": {
  "kernelspec": {
   "display_name": "Python 3",
   "language": "python",
   "name": "python3"
  },
  "language_info": {
   "codemirror_mode": {
    "name": "ipython",
    "version": 2
   },
   "file_extension": ".py",
   "mimetype": "text/x-python",
   "name": "python",
   "nbconvert_exporter": "python",
   "pygments_lexer": "ipython2",
   "version": "2.7.6"
  }
 },
 "nbformat": 4,
 "nbformat_minor": 0
}