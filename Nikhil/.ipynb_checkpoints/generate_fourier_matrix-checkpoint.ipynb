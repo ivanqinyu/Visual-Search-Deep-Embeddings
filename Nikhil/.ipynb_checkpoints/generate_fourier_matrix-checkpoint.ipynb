{
 "cells": [
  {
   "cell_type": "code",
   "execution_count": 6,
   "metadata": {},
   "outputs": [],
   "source": [
    "import pickle\n",
    "import random\n",
    "from PIL import Image, ImageStat, ImageChops\n",
    "from torchvision.transforms import transforms\n",
    "import os\n",
    "import numpy as np\n",
    "import cv2\n",
    "from tqdm.notebook import tqdm\n",
    "\n",
    "h,w = 134,100\n",
    "# h,w = 1333, 1000\n",
    "transform = transforms.Resize((h,w))\n",
    "images_path = '../../uob_image_set'"
   ]
  },
  {
   "cell_type": "code",
   "execution_count": 11,
   "metadata": {
    "pycharm": {
     "name": "#%%\n"
    }
   },
   "outputs": [],
   "source": [
    "def full_path(dir_name):\n",
    "    image_folder = os.path.join(images_path, dir_name)\n",
    "\n",
    "    img_name = os.listdir(image_folder)[0]\n",
    "    return os.path.join(image_folder, img_name)\n",
    "\n",
    "\n",
    "def get_images():\n",
    "    chosen = os.listdir(images_path)\n",
    "    print(\"Loading Images...\")\n",
    "    imgs = [Image.open(full_path(k)) for k in tqdm(chosen)]\n",
    "\n",
    "    print()\n",
    "    print(\"Transforming Images\")\n",
    "    imgs = [transform(i) for i in tqdm(imgs)]\n",
    "    print(\"LOADED\")\n",
    "    return np.array(imgs)\n",
    "\n",
    "def get_fft(img):\n",
    "\n",
    "    gray = np.array(img.convert(\"LA\"))\n",
    "    dft = cv2.dft(np.float32(gray), flags=cv2.DFT_COMPLEX_OUTPUT)\n",
    "    dft_shift = np.fft.fftshift(dft)\n",
    "\n",
    "    magnitude_spectrum = 20 * np.log(cv2.magnitude(dft_shift[:, :, 0], dft_shift[:, :, 1]))\n",
    "    return magnitude_spectrum\n",
    "\n",
    "def get_closest(images, fft_diff, idx, k):\n",
    "    images = np.array(images)\n",
    "    row = fft_diff[idx]\n",
    "    k_smallest_idx = np.argsort(row)[1:k+1]\n",
    "    return images[k_smallest_idx]\n",
    "\n",
    "def showImages(images, h = h):\n",
    "\n",
    "    dst = Image.new('RGB', (len(images) * w, h))\n",
    "    x = 0\n",
    "    y = 0\n",
    "    for i in images:\n",
    "        dst.paste(i, (x,y))\n",
    "        x+= w\n",
    "\n",
    "    dst.show()\n"
   ]
  },
  {
   "cell_type": "code",
   "execution_count": 12,
   "metadata": {
    "pycharm": {
     "name": "#%%\n"
    }
   },
   "outputs": [],
   "source": [
    "def get_fourier_matrix(images):\n",
    "    print(\"Calculating fft for images...\")\n",
    "    fft_images = [get_fft(i) for i in tqdm(images)]\n",
    "    n = len(images)\n",
    "    fft_diff = np.zeros((n,n))\n",
    "\n",
    "    print()\n",
    "    print(\"Calculating Diffs...\")\n",
    "    for i in tqdm(range(0, n)):\n",
    "        for j in range(0, i):\n",
    "\n",
    "            if i != j:\n",
    "                fft_1 = fft_images[i]\n",
    "                fft_2 = fft_images[j]\n",
    "\n",
    "                diff = np.sum(abs(fft_1 - fft_2))\n",
    "                fft_diff[i][j] = diff\n",
    "                fft_diff[j][i] = diff\n",
    "\n",
    "    return fft_diff"
   ]
  },
  {
   "cell_type": "code",
   "execution_count": 13,
   "metadata": {
    "pycharm": {
     "name": "#%%\n"
    }
   },
   "outputs": [],
   "source": [
    "def trim(im):\n",
    "    bg = Image.new(im.mode, im.size, im.getpixel((0,0)))\n",
    "    diff = ImageChops.difference(im, bg)\n",
    "    diff = ImageChops.add(diff, diff, 2.0, -100)\n",
    "    bbox = diff.getbbox()\n",
    "    if bbox:\n",
    "        return im.crop(bbox)\n",
    "\n",
    "\n",
    "def get_col(image):\n",
    "    centre =  transforms.CenterCrop((30, 30))\n",
    "    cropped = trim(image)\n",
    "    if cropped is None:\n",
    "        cropped = centre(image)\n",
    "\n",
    "    return ImageStat.Stat(cropped).median\n",
    "\n",
    "def get_colour_matrix(images):\n",
    "    print(\"Getting Colours...\")\n",
    "    col_images = [get_col(i) for i in tqdm(images)]\n",
    "    n = len(images)\n",
    "    col_diff = np.zeros((n,n))\n",
    "\n",
    "    print()\n",
    "    print(\"Calculating Diffs...\")\n",
    "    for i in tqdm(range(0, n)):\n",
    "        for j in range(0, i):\n",
    "\n",
    "            if i != j:\n",
    "                col_1 = np.array(col_images[i])\n",
    "                col_2 = np.array(col_images[j])\n",
    "\n",
    "                diff = np.sum(abs(col_1 - col_2))\n",
    "                col_diff[i][j] = diff\n",
    "                col_diff[j][i] = diff\n",
    "\n",
    "    return col_diff\n"
   ]
  },
  {
   "cell_type": "code",
   "execution_count": 14,
   "metadata": {
    "pycharm": {
     "name": "#%%\n"
    }
   },
   "outputs": [
    {
     "name": "stdout",
     "output_type": "stream",
     "text": [
      "Loading Images...\n"
     ]
    },
    {
     "data": {
      "application/vnd.jupyter.widget-view+json": {
       "model_id": "257d65b63fdb49a99beb27406fbcf7c5",
       "version_major": 2,
       "version_minor": 0
      },
      "text/plain": [
       "HBox(children=(IntProgress(value=0, max=1500), HTML(value='')))"
      ]
     },
     "metadata": {},
     "output_type": "display_data"
    },
    {
     "name": "stdout",
     "output_type": "stream",
     "text": [
      "\n",
      "\n",
      "Transforming Images\n"
     ]
    },
    {
     "data": {
      "application/vnd.jupyter.widget-view+json": {
       "model_id": "71c410fbe2e44480a94c37bcf1fafe0f",
       "version_major": 2,
       "version_minor": 0
      },
      "text/plain": [
       "HBox(children=(IntProgress(value=0, max=1500), HTML(value='')))"
      ]
     },
     "metadata": {},
     "output_type": "display_data"
    },
    {
     "name": "stdout",
     "output_type": "stream",
     "text": [
      "\n",
      "LOADED\n"
     ]
    },
    {
     "ename": "TypeError",
     "evalue": "int() argument must be a string, a bytes-like object or a number, not 'Image'",
     "output_type": "error",
     "traceback": [
      "\u001b[0;31m---------------------------------------------------------------------------\u001b[0m",
      "\u001b[0;31mTypeError\u001b[0m                                 Traceback (most recent call last)",
      "\u001b[0;32m<ipython-input-14-a9ae74bdf8ac>\u001b[0m in \u001b[0;36m<module>\u001b[0;34m\u001b[0m\n\u001b[0;32m----> 1\u001b[0;31m \u001b[0mimages\u001b[0m \u001b[0;34m=\u001b[0m \u001b[0mget_images\u001b[0m\u001b[0;34m(\u001b[0m\u001b[0;34m)\u001b[0m\u001b[0;34m\u001b[0m\u001b[0;34m\u001b[0m\u001b[0m\n\u001b[0m",
      "\u001b[0;32m<ipython-input-11-5ff35a50e21a>\u001b[0m in \u001b[0;36mget_images\u001b[0;34m()\u001b[0m\n\u001b[1;32m     15\u001b[0m     \u001b[0mimgs\u001b[0m \u001b[0;34m=\u001b[0m \u001b[0;34m[\u001b[0m\u001b[0mtransform\u001b[0m\u001b[0;34m(\u001b[0m\u001b[0mi\u001b[0m\u001b[0;34m)\u001b[0m \u001b[0;32mfor\u001b[0m \u001b[0mi\u001b[0m \u001b[0;32min\u001b[0m \u001b[0mtqdm\u001b[0m\u001b[0;34m(\u001b[0m\u001b[0mimgs\u001b[0m\u001b[0;34m)\u001b[0m\u001b[0;34m]\u001b[0m\u001b[0;34m\u001b[0m\u001b[0;34m\u001b[0m\u001b[0m\n\u001b[1;32m     16\u001b[0m     \u001b[0mprint\u001b[0m\u001b[0;34m(\u001b[0m\u001b[0;34m\"LOADED\"\u001b[0m\u001b[0;34m)\u001b[0m\u001b[0;34m\u001b[0m\u001b[0;34m\u001b[0m\u001b[0m\n\u001b[0;32m---> 17\u001b[0;31m     \u001b[0;32mreturn\u001b[0m \u001b[0mnp\u001b[0m\u001b[0;34m.\u001b[0m\u001b[0marray\u001b[0m\u001b[0;34m(\u001b[0m\u001b[0mimgs\u001b[0m\u001b[0;34m)\u001b[0m\u001b[0;34m\u001b[0m\u001b[0;34m\u001b[0m\u001b[0m\n\u001b[0m\u001b[1;32m     18\u001b[0m \u001b[0;34m\u001b[0m\u001b[0m\n\u001b[1;32m     19\u001b[0m \u001b[0;32mdef\u001b[0m \u001b[0mget_fft\u001b[0m\u001b[0;34m(\u001b[0m\u001b[0mimg\u001b[0m\u001b[0;34m)\u001b[0m\u001b[0;34m:\u001b[0m\u001b[0;34m\u001b[0m\u001b[0;34m\u001b[0m\u001b[0m\n",
      "\u001b[0;31mTypeError\u001b[0m: int() argument must be a string, a bytes-like object or a number, not 'Image'"
     ]
    }
   ],
   "source": [
    "images = get_images()"
   ]
  },
  {
   "cell_type": "code",
   "execution_count": null,
   "metadata": {},
   "outputs": [],
   "source": [
    "print(imgs[0])"
   ]
  },
  {
   "cell_type": "code",
   "execution_count": null,
   "metadata": {
    "pycharm": {
     "name": "#%%\n"
    }
   },
   "outputs": [],
   "source": [
    "fft_diff_matrix = get_fourier_matrix(images)\n",
    "np.save(\"fft_diff.npy\")"
   ]
  },
  {
   "cell_type": "code",
   "execution_count": null,
   "metadata": {
    "pycharm": {
     "name": "#%%\n"
    }
   },
   "outputs": [],
   "source": [
    "col_diff_matrix = get_colour_matrix(images)\n",
    "np.save(\"col_diff.npy\")"
   ]
  },
  {
   "cell_type": "code",
   "execution_count": null,
   "metadata": {
    "pycharm": {
     "name": "#%%\n"
    }
   },
   "outputs": [],
   "source": [
    "def get_measures(w_matrix):\n",
    "    w_matrix = w_matrix.flatten()\n",
    "    above_zero_idxs = np.where(w_matrix > 0)\n",
    "    above_zero = w_matrix[above_zero_idxs]\n",
    "    min_w = np.amin(above_zero)\n",
    "    max_w = np.amax(above_zero)\n",
    "    average = np.mean(above_zero)\n",
    "    # variance = np.var(above_zero)\n",
    "    measures = [min_w, max_w, average]\n",
    "    return measures\n",
    "\n"
   ]
  },
  {
   "cell_type": "code",
   "execution_count": null,
   "metadata": {
    "pycharm": {
     "name": "#%%\n"
    }
   },
   "outputs": [],
   "source": [
    "def get_error_matrix(fft_diff_matrix, col_diff_matrix):\n",
    "    fft_min, fft_max, fft_mean = get_measures(fft_diff_matrix)\n",
    "    col_min, col_max, col_mean = get_measures(col_diff_matrix)\n",
    "    transformed_fft = (fft_diff_matrix - fft_min) / (fft_max - fft_min)\n",
    "    transformed_col = (col_diff_matrix - col_min) / (col_max - col_min)\n",
    "    col_measures = get_measures(transformed_col)\n",
    "    fft_measures = get_measures(transformed_fft)\n",
    "    scaler =  2 * col_measures[2] / fft_measures[2]\n",
    "    error_matrix =  scaler * transformed_fft + transformed_col\n",
    "    return error_matrix"
   ]
  },
  {
   "cell_type": "code",
   "execution_count": null,
   "metadata": {
    "pycharm": {
     "name": "#%%\n"
    }
   },
   "outputs": [],
   "source": [
    "def add_colour_below(images):\n",
    "    joint_images = []\n",
    "\n",
    "    for im in images:\n",
    "        w,h = im.size\n",
    "        mode_col = tuple(get_col(im))\n",
    "        col_img = Image.new('RGB', (w, h), mode_col)\n",
    "        dst = Image.new('RGB', (w, 2 * h))\n",
    "        dst.paste(im, (0, 0))\n",
    "        dst.paste(col_img, (0, im.height))\n",
    "        joint_images.append(dst)\n",
    "\n",
    "    return joint_images\n",
    "\n",
    "\n",
    "def show_example():\n",
    "    error_matrix = get_error_matrix(fft_diff_matrix, col_diff_matrix)\n",
    "    idx = random.randint(0, 1500)\n",
    "    chosen_img = images[idx]\n",
    "    closest = get_closest(images, error_matrix, idx, 10)\n",
    "    images_with_median_col = add_colour_below([chosen_img] + list(closest))\n",
    "    showImages(images_with_median_col, h = chosen_img.height * 2)"
   ]
  },
  {
   "cell_type": "code",
   "execution_count": null,
   "metadata": {
    "pycharm": {
     "name": "#%%\n"
    }
   },
   "outputs": [],
   "source": [
    "for i in range(10):\n",
    "    show_example()\n"
   ]
  },
  {
   "cell_type": "code",
   "execution_count": null,
   "metadata": {},
   "outputs": [],
   "source": []
  }
 ],
 "metadata": {
  "kernelspec": {
   "display_name": "Python 3",
   "language": "python",
   "name": "python3"
  },
  "language_info": {
   "codemirror_mode": {
    "name": "ipython",
    "version": 3
   },
   "file_extension": ".py",
   "mimetype": "text/x-python",
   "name": "python",
   "nbconvert_exporter": "python",
   "pygments_lexer": "ipython3",
   "version": "3.7.4"
  }
 },
 "nbformat": 4,
 "nbformat_minor": 1
}
