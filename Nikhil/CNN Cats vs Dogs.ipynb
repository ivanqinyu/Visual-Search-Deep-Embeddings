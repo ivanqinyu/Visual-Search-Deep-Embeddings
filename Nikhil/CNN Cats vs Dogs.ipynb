{
 "cells": [
  {
   "cell_type": "code",
   "execution_count": 1,
   "id": "alpine-brief",
   "metadata": {},
   "outputs": [
    {
     "name": "stderr",
     "output_type": "stream",
     "text": [
      "\r",
      "  0%|                                                                                            | 0/2 [00:00<?, ?it/s]"
     ]
    },
    {
     "name": "stdout",
     "output_type": "stream",
     "text": [
      "10125.jpg\n",
      "10404.jpg\n",
      "10501.jpg\n",
      "10820.jpg\n",
      "11210.jpg\n",
      "11565.jpg\n",
      "11874.jpg\n",
      "11935.jpg\n",
      "140.jpg\n",
      "2663.jpg\n",
      "3300.jpg\n",
      "3491.jpg\n",
      "4833.jpg\n",
      "5553.jpg\n",
      "660.jpg\n",
      "666.jpg\n",
      "7968.jpg\n",
      "7978.jpg\n",
      "8470.jpg\n",
      "850.jpg\n",
      "9171.jpg\n",
      "936.jpg\n",
      "9565.jpg\n",
      "9778.jpg\n"
     ]
    },
    {
     "name": "stderr",
     "output_type": "stream",
     "text": [
      "\r",
      " 50%|██████████████████████████████████████████                                          | 1/2 [00:27<00:27, 27.71s/it]"
     ]
    },
    {
     "name": "stdout",
     "output_type": "stream",
     "text": [
      "Thumbs.db\n",
      "10158.jpg\n",
      "10401.jpg\n",
      "10747.jpg\n",
      "10797.jpg\n",
      "11410.jpg\n",
      "11675.jpg\n",
      "11702.jpg\n",
      "11849.jpg\n",
      "11853.jpg\n",
      "1308.jpg\n",
      "1866.jpg\n",
      "2384.jpg\n",
      "2688.jpg\n",
      "2877.jpg\n",
      "3136.jpg\n",
      "3288.jpg\n",
      "3588.jpg\n",
      "4367.jpg\n",
      "5604.jpg\n",
      "5736.jpg\n",
      "6059.jpg\n",
      "6238.jpg\n",
      "6718.jpg\n",
      "7112.jpg\n",
      "7133.jpg\n",
      "7369.jpg\n",
      "7459.jpg\n",
      "7969.jpg\n",
      "8730.jpg\n",
      "9188.jpg\n"
     ]
    },
    {
     "name": "stderr",
     "output_type": "stream",
     "text": [
      "100%|████████████████████████████████████████████████████████████████████████████████████| 2/2 [01:16<00:00, 38.41s/it]"
     ]
    },
    {
     "name": "stdout",
     "output_type": "stream",
     "text": [
      "Thumbs.db\n"
     ]
    },
    {
     "name": "stderr",
     "output_type": "stream",
     "text": [
      "\n",
      "d:\\my docs\\university\\applied data science\\project\\simple_neural_network\\venv\\lib\\site-packages\\numpy\\core\\_asarray.py:171: VisibleDeprecationWarning: Creating an ndarray from ragged nested sequences (which is a list-or-tuple of lists-or-tuples-or ndarrays with different lengths or shapes) is deprecated. If you meant to do this, you must specify 'dtype=object' when creating the ndarray.\n",
      "  return array(a, dtype, copy=False, order=order, subok=True)\n"
     ]
    },
    {
     "name": "stdout",
     "output_type": "stream",
     "text": [
      "Cats:  12469\n",
      "Dogs:  12470\n"
     ]
    }
   ],
   "source": [
    "import os\n",
    "import cv2\n",
    "import numpy as np\n",
    "from tqdm import tqdm\n",
    "\n",
    "REBUILD_DATA = False\n",
    "\n",
    "class DogVSCats():\n",
    "    IMG_SIZE = 50\n",
    "    CATS = \"PetImages/Cat\"\n",
    "    DOGS = \"PetImages/Dog\"\n",
    "    \n",
    "    LABELS = {CATS : 0, DOGS: 1}\n",
    "    training_data = []\n",
    "    \n",
    "    catCount = 0\n",
    "    dogCount = 0\n",
    "    \n",
    "    def make_training_data(self):\n",
    "        for label in tqdm(self.LABELS):\n",
    "            for f in os.listdir(label):\n",
    "                try:\n",
    "                    path = os.path.join(label,f)\n",
    "                    img = cv2.imread(path, cv2.IMREAD_GRAYSCALE)\n",
    "                    img = cv2.resize(img, (self.IMG_SIZE, self.IMG_SIZE))\n",
    "                    self.training_data.append([np.array(img), np.eye(2)[self.LABELS[label]]])\n",
    "\n",
    "                    if label == self.CATS:\n",
    "                        self.catCount += 1\n",
    "                    elif label == self.DOGS:\n",
    "                        self.dogCount += 1\n",
    "                except Exception as e:\n",
    "                    print(f)\n",
    "                    \n",
    "                    \n",
    "        np.random.shuffle(self.training_data)\n",
    "        np.save(\"training_data.npy\", self.training_data)\n",
    "        print(\"Cats: \", self.catCount)\n",
    "        print(\"Dogs: \", self.dogCount)\n",
    "        \n",
    "if REBUILD_DATA:\n",
    "    dogs_v_cats = DogVSCats()\n",
    "    dogs_v_cats.make_training_data()"
   ]
  },
  {
   "cell_type": "code",
   "execution_count": 2,
   "id": "noted-harvard",
   "metadata": {},
   "outputs": [],
   "source": [
    "training_data = np.load(\"training_data.npy\", allow_pickle=True)"
   ]
  },
  {
   "cell_type": "code",
   "execution_count": 3,
   "id": "reverse-estate",
   "metadata": {},
   "outputs": [
    {
     "name": "stdout",
     "output_type": "stream",
     "text": [
      "24939\n"
     ]
    }
   ],
   "source": [
    "print(len(training_data))"
   ]
  },
  {
   "cell_type": "code",
   "execution_count": 6,
   "id": "inclusive-grocery",
   "metadata": {},
   "outputs": [
    {
     "name": "stdout",
     "output_type": "stream",
     "text": [
      "[array([[ 61,  65,  72, ...,  32,  39,  59],\n",
      "        [ 67,  57,  38, ..., 110, 116, 115],\n",
      "        [ 37,  34,  36, ..., 128,  98, 102],\n",
      "        ...,\n",
      "        [ 48,  93, 123, ...,  72,  85,  92],\n",
      "        [ 27,  29,  52, ...,  62,  82,  91],\n",
      "        [ 38,  46,  47, ...,  72,  81,  84]], dtype=uint8) array([0., 1.])]\n"
     ]
    }
   ],
   "source": [
    "print(training_data[0])"
   ]
  },
  {
   "cell_type": "code",
   "execution_count": 10,
   "id": "accessible-maker",
   "metadata": {},
   "outputs": [
    {
     "data": {
      "image/png": "[encoded data removed]",
      "text/plain": [
       "<Figure size 432x288 with 1 Axes>"
      ]
     },
     "metadata": {
      "needs_background": "light"
     },
     "output_type": "display_data"
    }
   ],
   "source": [
    "import matplotlib.pyplot as plt\n",
    "\n",
    "plt.imshow(training_data[1][0], cmap = \"gray\")\n",
    "plt.show()"
   ]
  },
  {
   "cell_type": "code",
   "execution_count": 17,
   "id": "turned-lebanon",
   "metadata": {},
   "outputs": [],
   "source": [
    "import torch\n",
    "import torch.nn as nn\n",
    "import torch.nn.functional as F\n",
    "\n",
    "\n",
    "class Net(nn.Module):\n",
    "    \n",
    "    def __init__(self):\n",
    "        super().__init__()\n",
    "        \n",
    "        self.conv1 = nn.Conv2d(1 ,   32, 5)\n",
    "        self.conv2 = nn.Conv2d(32 ,  64, 5)\n",
    "        self.conv3 = nn.Conv2d(64 , 128, 5)\n",
    "        \n",
    "        x = torch.randn(50,50).view(-1, 1 , 50 , 50)\n",
    "        self._to_linear = None\n",
    "        self.convs(x)\n",
    "        \n",
    "        self.fc1 = nn.Linear(self._to_linear, 512)\n",
    "        self.fc2 = nn.Linear(512, 2)\n",
    "\n",
    "    def convs(self, x):\n",
    "        x = F.max_pool2d(F.relu(self.conv1(x)), (2,2))\n",
    "        x = F.max_pool2d(F.relu(self.conv2(x)), (2,2))\n",
    "        x = F.max_pool2d(F.relu(self.conv3(x)), (2,2))\n",
    "        \n",
    "        if self._to_linear is None:\n",
    "            s = x[0].shape\n",
    "            self._to_linear = s[0] * s[1] * s[2]\n",
    "            \n",
    "        return x\n",
    "    \n",
    "    def forward(self, x):\n",
    "        x = self.convs(x)\n",
    "        x = x.view(-1, self._to_linear)\n",
    "        x = F.relu(self.fc1(x))\n",
    "        x = self.fc2(x)\n",
    "        \n",
    "        return F.softmax(x, dim = 1)"
   ]
  },
  {
   "cell_type": "code",
   "execution_count": 19,
   "id": "noticed-aruba",
   "metadata": {},
   "outputs": [],
   "source": [
    "net = Net()"
   ]
  },
  {
   "cell_type": "code",
   "execution_count": 20,
   "id": "martial-beginning",
   "metadata": {},
   "outputs": [
    {
     "name": "stdout",
     "output_type": "stream",
     "text": [
      "2493\n"
     ]
    }
   ],
   "source": [
    "import torch.optim as optim\n",
    "\n",
    "optimizer = optim.Adam(net.parameters(), lr = 0.001)\n",
    "\n",
    "loss_function = nn.MSELoss()\n",
    "X = torch.Tensor([i[0] for i in training_data]).view(-1,50,50)\n",
    "X = X/255.0\n",
    "y = torch.Tensor([i[1] for i in training_data])\n",
    "\n",
    "VAL_PCT = 0.1\n",
    "val_size = int(len(X)*VAL_PCT)\n",
    "print(val_size)"
   ]
  },
  {
   "cell_type": "code",
   "execution_count": 21,
   "id": "prescribed-seminar",
   "metadata": {},
   "outputs": [
    {
     "name": "stdout",
     "output_type": "stream",
     "text": [
      "22446 2493\n"
     ]
    }
   ],
   "source": [
    "train_X = X[:-val_size]\n",
    "train_y = y[:-val_size]\n",
    "\n",
    "test_X = X[-val_size:]\n",
    "test_y = y[-val_size:]\n",
    "\n",
    "print(len(train_X) , len(test_X))"
   ]
  },
  {
   "cell_type": "code",
   "execution_count": 28,
   "id": "incoming-connectivity",
   "metadata": {},
   "outputs": [
    {
     "name": "stderr",
     "output_type": "stream",
     "text": [
      "100%|████████████████████████████████████████████████████████████████████████████████| 225/225 [01:26<00:00,  2.61it/s]\n",
      "100%|████████████████████████████████████████████████████████████████████████████████| 225/225 [01:29<00:00,  2.52it/s]\n",
      "100%|████████████████████████████████████████████████████████████████████████████████| 225/225 [01:27<00:00,  2.56it/s]"
     ]
    },
    {
     "name": "stdout",
     "output_type": "stream",
     "text": [
      "tensor(0.1014, grad_fn=<MseLossBackward>)\n"
     ]
    },
    {
     "name": "stderr",
     "output_type": "stream",
     "text": [
      "\n"
     ]
    }
   ],
   "source": [
    "BATCH_SIZE = 100\n",
    "EPOCHS = 3\n",
    "\n",
    "for epoch in range(EPOCHS):\n",
    "    for i in tqdm(range(0,len(train_X) , BATCH_SIZE)):\n",
    "        batch_X = train_X[i : i+BATCH_SIZE].view(-1,1,50,50)\n",
    "        batch_y = train_y[i : i+BATCH_SIZE]\n",
    "        \n",
    "        optimizer.zero_grad()\n",
    "        outputs = net(batch_X)\n",
    "        loss = loss_function(outputs, batch_y)\n",
    "        \n",
    "        loss.backward()\n",
    "        optimizer.step()\n",
    "        \n",
    "print(loss)"
   ]
  },
  {
   "cell_type": "code",
   "execution_count": 29,
   "id": "therapeutic-reservation",
   "metadata": {},
   "outputs": [
    {
     "name": "stderr",
     "output_type": "stream",
     "text": [
      "100%|█████████████████████████████████████████████████████████████████████████████| 2493/2493 [00:07<00:00, 336.11it/s]"
     ]
    },
    {
     "name": "stdout",
     "output_type": "stream",
     "text": [
      "Accuracy: 0.755\n"
     ]
    },
    {
     "name": "stderr",
     "output_type": "stream",
     "text": [
      "\n"
     ]
    }
   ],
   "source": [
    "correct = 0\n",
    "total = 0\n",
    "\n",
    "with torch.no_grad():\n",
    "    for i in tqdm(range(len(test_X))):\n",
    "        real_class = torch.argmax(test_y[i])\n",
    "        net_out = net(test_X[i].view(-1,1,50,50))[0]\n",
    "        predicted_class = torch.argmax(net_out)\n",
    "        if predicted_class == real_class:\n",
    "            correct += 1\n",
    "        total += 1\n",
    "        \n",
    "print(\"Accuracy:\", round(correct/total, 3))"
   ]
  },
  {
   "cell_type": "code",
   "execution_count": 51,
   "id": "appreciated-repository",
   "metadata": {},
   "outputs": [
    {
     "data": {
      "image/png": "[encoded data removed]",
      "text/plain": [
       "<Figure size 432x288 with 1 Axes>"
      ]
     },
     "metadata": {
      "needs_background": "light"
     },
     "output_type": "display_data"
    },
    {
     "name": "stdout",
     "output_type": "stream",
     "text": [
      "tensor([[[[0.2941, 0.3333, 0.4471,  ..., 0.2392, 0.2196, 0.1725],\n",
      "          [0.3137, 0.3412, 0.4549,  ..., 0.2157, 0.1922, 0.1765],\n",
      "          [0.3451, 0.3647, 0.4275,  ..., 0.2157, 0.2039, 0.1882],\n",
      "          ...,\n",
      "          [0.7765, 0.7804, 0.8078,  ..., 0.1569, 0.1608, 0.1490],\n",
      "          [0.7176, 0.7647, 0.8196,  ..., 0.1569, 0.1490, 0.1373],\n",
      "          [0.7137, 0.7294, 0.7451,  ..., 0.1569, 0.1412, 0.1137]]]])\n",
      "tensor([[[[ 85, 102,  86,  ..., 132,  99,  75],\n",
      "          [ 70, 160,  92,  ...,  86, 104, 101],\n",
      "          [ 90, 135, 169,  ...,  87,  94,  92],\n",
      "          ...,\n",
      "          [151, 158, 149,  ..., 252, 252, 252],\n",
      "          [160, 133, 158,  ..., 252, 249, 248],\n",
      "          [144, 154, 145,  ..., 252, 248, 249]]]], dtype=torch.uint8)\n"
     ]
    }
   ],
   "source": [
    "import matplotlib.pyplot as plt\n",
    "img = training_data[199][0]\n",
    "plt.imshow(img, cmap = \"gray\")\n",
    "plt.show()\n",
    "print(test_X[11].view(-1,1,50,50))\n",
    "print(torch.tensor(img).view(-1,1,50,50))\n",
    "\n",
    "img = (torch.tensor(img)/255).view(-1,1,50,50)"
   ]
  },
  {
   "cell_type": "code",
   "execution_count": 52,
   "id": "seven-pizza",
   "metadata": {},
   "outputs": [
    {
     "data": {
      "text/plain": [
       "tensor([[0.0844, 0.9156]], grad_fn=<SoftmaxBackward>)"
      ]
     },
     "execution_count": 52,
     "metadata": {},
     "output_type": "execute_result"
    }
   ],
   "source": [
    "net(img)"
   ]
  },
  {
   "cell_type": "code",
   "execution_count": null,
   "id": "certified-tokyo",
   "metadata": {},
   "outputs": [],
   "source": []
  },
  {
   "cell_type": "code",
   "execution_count": null,
   "id": "controversial-boulder",
   "metadata": {},
   "outputs": [],
   "source": []
  }
 ],
 "metadata": {
  "kernelspec": {
   "display_name": "Python 3",
   "language": "python",
   "name": "python3"
  },
  "language_info": {
   "codemirror_mode": {
    "name": "ipython",
    "version": 3
   },
   "file_extension": ".py",
   "mimetype": "text/x-python",
   "name": "python",
   "nbconvert_exporter": "python",
   "pygments_lexer": "ipython3",
   "version": "3.9.0"
  }
 },
 "nbformat": 4,
 "nbformat_minor": 5
}
