{
 "cells": [
  {
   "cell_type": "code",
   "execution_count": 2,
   "id": "composite-undergraduate",
   "metadata": {},
   "outputs": [
    {
     "data": {
      "text/plain": [
       "False"
      ]
     },
     "execution_count": 2,
     "metadata": {},
     "output_type": "execute_result"
    }
   ],
   "source": [
    "import numpy as np\n",
    "import os\n",
    "import torch\n",
    "import torchvision\n",
    "import cv2\n",
    "import matplotlib.pyplot as plt\n",
    "from tqdm.notebook import tqdm\n",
    "from mpl_toolkits.mplot3d import axes3d\n",
    "from  PIL import Image\n",
    "from time import time\n",
    "from torch import nn\n",
    "from torchvision import models\n",
    "from torchvision import transforms\n",
    "from torchvision import datasets\n",
    "from torch.utils.data.dataset import Dataset\n",
    "from torchsummary import summary\n",
    "import pylab\n",
    "import random\n",
    "import numpy \n",
    "import pandas as pd\n",
    "\n",
    "from sklearn.decomposition import PCA\n",
    "from sklearn import preprocessing\n",
    "\n",
    "torch.cuda.is_available()"
   ]
  },
  {
   "cell_type": "code",
   "execution_count": 3,
   "id": "advance-firmware",
   "metadata": {},
   "outputs": [],
   "source": [
    "resnet18 = models.resnet18(pretrained=True)"
   ]
  },
  {
   "cell_type": "code",
   "execution_count": 4,
   "id": "official-continuity",
   "metadata": {},
   "outputs": [],
   "source": [
    "resnet34 = models.resnet34(pretrained=True)"
   ]
  },
  {
   "cell_type": "code",
   "execution_count": 5,
   "id": "atlantic-financing",
   "metadata": {},
   "outputs": [],
   "source": [
    "resnet50 = models.resnet50(pretrained=True)"
   ]
  },
  {
   "cell_type": "code",
   "execution_count": 6,
   "id": "thick-spring",
   "metadata": {},
   "outputs": [],
   "source": [
    "resnet101 = models.resnet101(pretrained=True)"
   ]
  },
  {
   "cell_type": "code",
   "execution_count": 7,
   "id": "sublime-accountability",
   "metadata": {},
   "outputs": [],
   "source": [
    "resnet152 = models.resnet152(pretrained=True)"
   ]
  },
  {
   "cell_type": "code",
   "execution_count": 8,
   "id": "basic-pilot",
   "metadata": {},
   "outputs": [],
   "source": [
    "# choose the model.\n",
    "resnet = resnet50"
   ]
  },
  {
   "cell_type": "code",
   "execution_count": 9,
   "id": "complete-interval",
   "metadata": {},
   "outputs": [],
   "source": [
    "preprocess = transforms.Compose([\n",
    "        transforms.Resize(256),\n",
    "        transforms.CenterCrop(224),\n",
    "        transforms.RandomHorizontalFlip(),\n",
    "        transforms.ToTensor(),\n",
    "        transforms.Normalize(\n",
    "            mean=[0.485, 0.456, 0.406], \n",
    "            std=[0.229, 0.224, 0.225]\n",
    "        )])"
   ]
  },
  {
   "cell_type": "code",
   "execution_count": 10,
   "id": "stone-mongolia",
   "metadata": {},
   "outputs": [],
   "source": [
    "def load_images_from_folder(folder, end, as_tensor = False):\n",
    "\n",
    "    images = []\n",
    "    files = folders = 0\n",
    "    count= 0\n",
    "    dirnames = [] \n",
    "\n",
    "    num_img = []\n",
    "\n",
    "    for _, dirnames, filenames in os.walk(folder):\n",
    "\n",
    " \n",
    "\n",
    "        if dirnames != []:\n",
    "            subfolders = dirnames\n",
    "        current_path = os.path.join(folder, subfolders[count])\n",
    "        num_img.append(len(os.listdir(current_path)))\n",
    "        for filename in os.listdir(current_path):\n",
    "            img = Image.open(os.path.join(current_path, filename))\n",
    "            if img is not None:\n",
    "                if as_tensor:\n",
    "                    img = torch.from_numpy(img * 1.0)\n",
    "                    images.append(img)\n",
    "                else: \n",
    "                    images.append(img)\n",
    "\n",
    " \n",
    "\n",
    "        count += 1\n",
    "        \n",
    "        if count % 10 == 0:\n",
    "            print('number of folder done =', count, 'total number of images so far =', len(images))\n",
    "            \n",
    "        if count  == end:\n",
    "            return images, num_img\n",
    "\n",
    "    return images, num_img\n",
    "\n",
    "\n",
    "def show_image(PIL_img):\n",
    "    PIL_img.show()"
   ]
  },
  {
   "cell_type": "code",
   "execution_count": 40,
   "id": "graduate-building",
   "metadata": {},
   "outputs": [
    {
     "name": "stdout",
     "output_type": "stream",
     "text": [
      "number of folder done = 10 total number of images so far = 42\n"
     ]
    }
   ],
   "source": [
    "path = \"../uob_image_set\"\n",
    "\n",
    "dataset, num_img_list = load_images_from_folder(path, 10)"
   ]
  },
  {
   "cell_type": "code",
   "execution_count": 23,
   "id": "divine-default",
   "metadata": {},
   "outputs": [
    {
     "name": "stdout",
     "output_type": "stream",
     "text": [
      "42\n",
      "[5, 4, 4, 5, 4, 3, 4, 4, 5, 4]\n",
      "42\n"
     ]
    },
    {
     "data": {
      "text/plain": [
       "(None, None, None)"
      ]
     },
     "execution_count": 23,
     "metadata": {},
     "output_type": "execute_result"
    }
   ],
   "source": [
    "print(len(dataset)), print(num_img_list), print(sum(num_img_list))"
   ]
  },
  {
   "cell_type": "code",
   "execution_count": 35,
   "id": "proved-costume",
   "metadata": {},
   "outputs": [],
   "source": [
    "list_input_tensor = []\n",
    "list_input_batch = []\n",
    "num_img = sum(num_img_list)\n",
    "for item in range(num_img):\n",
    "    input_tensor = preprocess(dataset[item])\n",
    "    input_batch = input_tensor.unsqueeze(0)\n",
    "    list_input_tensor.append(input_tensor)\n",
    "    list_input_batch.append(input_batch)\n",
    "    "
   ]
  },
  {
   "cell_type": "code",
   "execution_count": 36,
   "id": "heavy-bradford",
   "metadata": {},
   "outputs": [],
   "source": [
    "for param in resnet.parameters():\n",
    "    param.requires_grad = False\n",
    "    \n",
    "# Parameters of newly constructed modules have requires_grad=True by default\n",
    "# num_ftrs = resnet.fc.in_features\n",
    "# resnet.fc = torch.nn.Linear(num_ftrs, 3)\n"
   ]
  },
  {
   "cell_type": "code",
   "execution_count": 37,
   "id": "necessary-trick",
   "metadata": {},
   "outputs": [],
   "source": [
    "for i in range(len(list_input_batch)):\n",
    "    if torch.cuda.is_available():\n",
    "        input_batch = list_input_batch[i].to('cuda')\n",
    "        resnet.to('cuda')\n",
    "    \n",
    "    with torch.no_grad():\n",
    "        output = resnet(input_batch)"
   ]
  },
  {
   "cell_type": "code",
   "execution_count": 38,
   "id": "raised-registrar",
   "metadata": {},
   "outputs": [
    {
     "data": {
      "text/plain": [
       "array([[-1.0094825 , -0.29581365, -0.57998806, ..., -0.32579851,\n",
       "         1.19355512,  0.80200082],\n",
       "       [-1.0094825 , -0.29581365, -0.57998806, ..., -0.32579851,\n",
       "         1.19355512,  0.80200082],\n",
       "       [-1.0094825 , -0.29581365, -0.57998806, ..., -0.32579851,\n",
       "         1.19355512,  0.80200082],\n",
       "       ...,\n",
       "       [-1.0094825 , -0.29581365, -0.57998806, ..., -0.32579851,\n",
       "         1.19355512,  0.80200082],\n",
       "       [-1.0094825 , -0.29581365, -0.57998806, ..., -0.32579851,\n",
       "         1.19355512,  0.80200082],\n",
       "       [-1.0094825 , -0.29581365, -0.57998806, ..., -0.32579851,\n",
       "         1.19355512,  0.80200082]])"
      ]
     },
     "metadata": {},
     "output_type": "display_data"
    }
   ],
   "source": [
    "output_array = []\n",
    "for i in range(len(list_input_batch)):\n",
    "    if torch.cuda.is_available():\n",
    "        input_batch = list_input_batch[i].to('cuda')\n",
    "        resnet.to('cuda')\n",
    "    \n",
    "    with torch.no_grad():\n",
    "        output = resnet(input_batch)\n",
    "        cup_tensor = output.cpu()\n",
    "        \n",
    "    output_array.append(cup_tensor[0].tolist())\n",
    "#     output_array.append(np.asarray(cup_tensor[0]))\n",
    "#     print(np.asarray(cup_tensor[0]))\n",
    "output_array = np.asarray(output_array)\n",
    "display(output_array)"
   ]
  },
  {
   "cell_type": "code",
   "execution_count": 39,
   "id": "closed-depression",
   "metadata": {},
   "outputs": [
    {
     "data": {
      "image/png": "[encoded data removed]",
      "text/plain": [
       "<Figure size 432x288 with 1 Axes>"
      ]
     },
     "metadata": {
      "needs_background": "light"
     },
     "output_type": "display_data"
    }
   ],
   "source": [
    "\n",
    "fig = plt.figure()\n",
    "ax = plt.axes(projection=\"3d\")\n",
    "\n",
    "img_counter = 0\n",
    "for n in num_img_list:\n",
    "    r = lambda: random.randint(0,255)\n",
    "    random_color = '#%02X%02X%02X' % (r(),r(),r())\n",
    "    ax.scatter(output_array[img_counter:img_counter + n,0], output_array[img_counter:img_counter + n,1], output_array[img_counter:img_counter + n,2],color=random_color,s=20)\n",
    "    img_counter += n\n",
    "plt.show()  \n",
    "\n",
    "ax.set_xlabel('X Axes')\n",
    "ax.set_ylabel('Y Axes')\n",
    "ax.set_zlabel('Frame Axes')\n",
    "\n",
    "plt.show()"
   ]
  },
  {
   "cell_type": "code",
   "execution_count": 18,
   "id": "hispanic-brunei",
   "metadata": {},
   "outputs": [],
   "source": [
    "# fig = plt.figure()\n",
    "# img_counter = 0\n",
    "# for n in num_img_list:\n",
    "#     r = lambda: random.randint(0,255)\n",
    "#     random_color = '#%02X%02X%02X' % (r(),r(),r())\n",
    "#     plt.plot(output_array[img_counter:img_counter + n,0], output_array[img_counter:img_counter + n,1], 'o',color=random_color)\n",
    "#     img_counter += n\n",
    "# plt.show()            "
   ]
  },
  {
   "cell_type": "code",
   "execution_count": 19,
   "id": "resident-marsh",
   "metadata": {},
   "outputs": [],
   "source": [
    "# fig = plt.figure()\n",
    "# img_counter = 0\n",
    "# for n in num_img_list:\n",
    "#     r = lambda: random.randint(0,255)\n",
    "#     random_color = '#%02X%02X%02X' % (r(),r(),r())\n",
    "#     plt.plot(output_array[img_counter:img_counter + n,0], output_array[img_counter:img_counter + n,2], 'o',color=random_color)\n",
    "#     img_counter += n\n",
    "# plt.show()            "
   ]
  },
  {
   "cell_type": "code",
   "execution_count": 20,
   "id": "statutory-banner",
   "metadata": {},
   "outputs": [],
   "source": [
    "# fig = plt.figure()\n",
    "# img_counter = 0\n",
    "# for n in num_img_list:\n",
    "#     r = lambda: random.randint(0,255)\n",
    "#     random_color = '#%02X%02X%02X' % (r(),r(),r())\n",
    "#     plt.plot(output_array[img_counter:img_counter + n,1], output_array[img_counter:img_counter + n,2], 'o',color=random_color)\n",
    "#     img_counter += n\n",
    "# plt.show()            "
   ]
  },
  {
   "cell_type": "code",
   "execution_count": 20,
   "id": "shaped-detective",
   "metadata": {},
   "outputs": [],
   "source": []
  },
  {
   "cell_type": "code",
   "execution_count": 30,
   "id": "satisfactory-promotion",
   "metadata": {},
   "outputs": [
    {
     "name": "stderr",
     "output_type": "stream",
     "text": [
      "d:\\my docs\\university\\applied data science\\project\\visual-search-deep-embeddings\\env\\lib\\site-packages\\sklearn\\decomposition\\_pca.py:463: RuntimeWarning: invalid value encountered in true_divide\n",
      "  explained_variance_ratio_ = explained_variance_ / total_var\n"
     ]
    }
   ],
   "source": [
    "scaled_data = preprocessing.scale(output_array)\n",
    "pca = PCA()\n",
    "pca.fit(scaled_data)\n",
    "pca_data = pca.transform(scaled_data)"
   ]
  },
  {
   "cell_type": "code",
   "execution_count": 31,
   "id": "blocked-psychiatry",
   "metadata": {},
   "outputs": [
    {
     "data": {
      "text/plain": [
       "array([[0., 0., 0., ..., 0., 0., 0.],\n",
       "       [0., 0., 0., ..., 0., 0., 0.],\n",
       "       [0., 0., 0., ..., 0., 0., 0.],\n",
       "       ...,\n",
       "       [0., 0., 0., ..., 0., 0., 0.],\n",
       "       [0., 0., 0., ..., 0., 0., 0.],\n",
       "       [0., 0., 0., ..., 0., 0., 0.]])"
      ]
     },
     "execution_count": 31,
     "metadata": {},
     "output_type": "execute_result"
    }
   ],
   "source": [
    "pca_data"
   ]
  },
  {
   "cell_type": "code",
   "execution_count": 32,
   "id": "alert-disorder",
   "metadata": {},
   "outputs": [],
   "source": [
    "per_var = np.round(pca.explained_variance_ratio_*100, decimals = 1)"
   ]
  },
  {
   "cell_type": "code",
   "execution_count": 33,
   "id": "forward-plain",
   "metadata": {},
   "outputs": [
    {
     "data": {
      "text/plain": [
       "array([nan, nan, nan, nan, nan, nan, nan, nan, nan, nan, nan, nan, nan,\n",
       "       nan, nan, nan, nan, nan, nan, nan, nan, nan, nan, nan, nan, nan,\n",
       "       nan, nan, nan, nan, nan, nan, nan, nan, nan, nan, nan, nan, nan,\n",
       "       nan, nan, nan])"
      ]
     },
     "execution_count": 33,
     "metadata": {},
     "output_type": "execute_result"
    }
   ],
   "source": [
    "per_var"
   ]
  },
  {
   "cell_type": "code",
   "execution_count": 34,
   "id": "planned-waterproof",
   "metadata": {},
   "outputs": [
    {
     "data": {
      "image/png": "[encoded data removed]",
      "text/plain": [
       "<Figure size 432x288 with 1 Axes>"
      ]
     },
     "metadata": {
      "needs_background": "light"
     },
     "output_type": "display_data"
    }
   ],
   "source": [
    "# plt.bar(x=range(1,len(per_var)+1), height=per_var, tick_label = labels)\n",
    "labels = ['PC' +  str(x) for x in range(1,len(per_var)+1)]\n",
    "plt.bar(x=range(1,len(per_var)+1), height=per_var)\n",
    "plt.show()"
   ]
  },
  {
   "cell_type": "code",
   "execution_count": null,
   "id": "superb-exploration",
   "metadata": {},
   "outputs": [],
   "source": [
    "pca_df = pd.DataFrame(pca_data, columns=labels)\n",
    "\n",
    "fig = plt.figure()\n",
    "img_counter = 0\n",
    "for n in num_img_list:\n",
    "    r = lambda: random.randint(0,255)\n",
    "    random_color = '#%02X%02X%02X' % (r(),r(),r())\n",
    "    plt.plot(pca_df.PC1[img_counter:img_counter + n], pca_df.PC2[img_counter:img_counter + n], 'o',color=random_color)\n",
    "    img_counter += n\n",
    "plt.show()"
   ]
  },
  {
   "cell_type": "code",
   "execution_count": null,
   "id": "differential-dover",
   "metadata": {},
   "outputs": [],
   "source": []
  }
 ],
 "metadata": {
  "kernelspec": {
   "display_name": "Python 3",
   "language": "python",
   "name": "python3"
  },
  "language_info": {
   "codemirror_mode": {
    "name": "ipython",
    "version": 3
   },
   "file_extension": ".py",
   "mimetype": "text/x-python",
   "name": "python",
   "nbconvert_exporter": "python",
   "pygments_lexer": "ipython3",
   "version": "3.9.0"
  }
 },
 "nbformat": 4,
 "nbformat_minor": 5
}
